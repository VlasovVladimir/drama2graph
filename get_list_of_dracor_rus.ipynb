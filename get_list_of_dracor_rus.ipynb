{
 "cells": [
  {
   "cell_type": "code",
   "execution_count": 21,
   "metadata": {},
   "outputs": [
    {
     "name": "stdout",
     "output_type": "stream",
     "text": [
      "Collecting selenium\n",
      "\u001b[?25l  Downloading https://files.pythonhosted.org/packages/80/d6/4294f0b4bce4de0abf13e17190289f9d0613b0a44e5dd6a7f5ca98459853/selenium-3.141.0-py2.py3-none-any.whl (904kB)\n",
      "\u001b[K     |████████████████████████████████| 911kB 1.1MB/s eta 0:00:01\n",
      "\u001b[?25hRequirement already satisfied: urllib3 in /Library/Frameworks/Python.framework/Versions/3.7/lib/python3.7/site-packages (from selenium) (1.23)\n",
      "Installing collected packages: selenium\n",
      "Successfully installed selenium-3.141.0\n",
      "\u001b[33mWARNING: You are using pip version 19.1.1, however version 19.3.1 is available.\n",
      "You should consider upgrading via the 'pip install --upgrade pip' command.\u001b[0m\n"
     ]
    }
   ],
   "source": [
    "# !pip3 install selenium\n",
    "# safaridriver --enable"
   ]
  },
  {
   "cell_type": "code",
   "execution_count": 87,
   "metadata": {},
   "outputs": [],
   "source": [
    "from selenium import webdriver\n",
    "from bs4 import BeautifulSoup\n",
    "import pandas as pd"
   ]
  },
  {
   "cell_type": "code",
   "execution_count": 26,
   "metadata": {},
   "outputs": [],
   "source": [
    "driver = webdriver.Safari()"
   ]
  },
  {
   "cell_type": "code",
   "execution_count": 28,
   "metadata": {},
   "outputs": [],
   "source": [
    "driver.get(\"https://dracor.org/rus\")"
   ]
  },
  {
   "cell_type": "code",
   "execution_count": 32,
   "metadata": {},
   "outputs": [],
   "source": [
    "soup = BeautifulSoup(driver.page_source, \"lxml\")"
   ]
  },
  {
   "cell_type": "code",
   "execution_count": 47,
   "metadata": {},
   "outputs": [],
   "source": [
    "table_info = soup.tbody"
   ]
  },
  {
   "cell_type": "code",
   "execution_count": 99,
   "metadata": {},
   "outputs": [],
   "source": [
    "def extract_year(tag:str):\n",
    "    result = cells[3].find(\"span\", {\"title\": tag})\n",
    "    return result.text.strip() if result else None\n",
    "\n",
    "to_df = []\n",
    "for row in table_info.findAll(\"tr\"):\n",
    "    cells = row.findAll(\"td\")\n",
    "    authors = cells[0].find(text=True)\n",
    "    title = cells[1].find(text=True)\n",
    "    link = \"https://dracor.org\" + cells[1].find(\"a\", href=True)[\"href\"]\n",
    "    written = extract_year(\"written\")\n",
    "    premiered = extract_year(\"premiered\")\n",
    "    printed = extract_year(\"printed\")\n",
    "    source = cells[4].find(text=True)\n",
    "    id_ = cells[5].find(text=True)\n",
    "    to_df.append((authors, title, link, written, premiered, printed, source, id_))"
   ]
  },
  {
   "cell_type": "code",
   "execution_count": 100,
   "metadata": {},
   "outputs": [],
   "source": [
    "df = pd.DataFrame(to_df, columns = [\"authors\", \"title\", \"link\", \"written\", \"premiered\", \"printed\", \"source\", \"id\"])"
   ]
  },
  {
   "cell_type": "code",
   "execution_count": 102,
   "metadata": {
    "scrolled": true
   },
   "outputs": [
    {
     "data": {
      "text/html": [
       "<div>\n",
       "<style scoped>\n",
       "    .dataframe tbody tr th:only-of-type {\n",
       "        vertical-align: middle;\n",
       "    }\n",
       "\n",
       "    .dataframe tbody tr th {\n",
       "        vertical-align: top;\n",
       "    }\n",
       "\n",
       "    .dataframe thead th {\n",
       "        text-align: right;\n",
       "    }\n",
       "</style>\n",
       "<table border=\"1\" class=\"dataframe\">\n",
       "  <thead>\n",
       "    <tr style=\"text-align: right;\">\n",
       "      <th></th>\n",
       "      <th>authors</th>\n",
       "      <th>title</th>\n",
       "      <th>link</th>\n",
       "      <th>written</th>\n",
       "      <th>premiered</th>\n",
       "      <th>printed</th>\n",
       "      <th>source</th>\n",
       "      <th>id</th>\n",
       "    </tr>\n",
       "  </thead>\n",
       "  <tbody>\n",
       "    <tr>\n",
       "      <th>0</th>\n",
       "      <td>Андреев, Леонид Николаевич</td>\n",
       "      <td>К звёздам</td>\n",
       "      <td>https://dracor.org/rus/andreyev-k-zvezdam</td>\n",
       "      <td>1905</td>\n",
       "      <td>1906</td>\n",
       "      <td>None</td>\n",
       "      <td>Библиотека Максима Мошкова (lib.ru)</td>\n",
       "      <td>rus000194</td>\n",
       "    </tr>\n",
       "    <tr>\n",
       "      <th>1</th>\n",
       "      <td>Андреев, Леонид Николаевич</td>\n",
       "      <td>Мысль</td>\n",
       "      <td>https://dracor.org/rus/andreyev-mysl</td>\n",
       "      <td>1913</td>\n",
       "      <td>1914</td>\n",
       "      <td>1914</td>\n",
       "      <td>Библиотека Максима Мошкова (lib.ru)</td>\n",
       "      <td>rus000137</td>\n",
       "    </tr>\n",
       "    <tr>\n",
       "      <th>2</th>\n",
       "      <td>Андреев, Леонид Николаевич</td>\n",
       "      <td>Не убий</td>\n",
       "      <td>https://dracor.org/rus/andreyev-ne-ubiy</td>\n",
       "      <td>1913</td>\n",
       "      <td>1913</td>\n",
       "      <td>1913</td>\n",
       "      <td>Библиотека Максима Мошкова (lib.ru)</td>\n",
       "      <td>rus000138</td>\n",
       "    </tr>\n",
       "    <tr>\n",
       "      <th>3</th>\n",
       "      <td>Афиногенов, Александр Николаевич</td>\n",
       "      <td>Машенька</td>\n",
       "      <td>https://dracor.org/rus/afinogenov-mashenka</td>\n",
       "      <td>1940</td>\n",
       "      <td>1941</td>\n",
       "      <td>1941</td>\n",
       "      <td>Wikisource</td>\n",
       "      <td>rus000167</td>\n",
       "    </tr>\n",
       "    <tr>\n",
       "      <th>4</th>\n",
       "      <td>Бабель, Исаак Эммануилович</td>\n",
       "      <td>Мария</td>\n",
       "      <td>https://dracor.org/rus/babel-marija</td>\n",
       "      <td>1934</td>\n",
       "      <td>1964</td>\n",
       "      <td>1935</td>\n",
       "      <td>Wikilivres/Bibliowiki</td>\n",
       "      <td>rus000119</td>\n",
       "    </tr>\n",
       "  </tbody>\n",
       "</table>\n",
       "</div>"
      ],
      "text/plain": [
       "                            authors      title  \\\n",
       "0        Андреев, Леонид Николаевич  К звёздам   \n",
       "1        Андреев, Леонид Николаевич      Мысль   \n",
       "2        Андреев, Леонид Николаевич    Не убий   \n",
       "3  Афиногенов, Александр Николаевич   Машенька   \n",
       "4        Бабель, Исаак Эммануилович      Мария   \n",
       "\n",
       "                                         link written premiered printed  \\\n",
       "0   https://dracor.org/rus/andreyev-k-zvezdam    1905      1906    None   \n",
       "1        https://dracor.org/rus/andreyev-mysl    1913      1914    1914   \n",
       "2     https://dracor.org/rus/andreyev-ne-ubiy    1913      1913    1913   \n",
       "3  https://dracor.org/rus/afinogenov-mashenka    1940      1941    1941   \n",
       "4         https://dracor.org/rus/babel-marija    1934      1964    1935   \n",
       "\n",
       "                                source         id  \n",
       "0  Библиотека Максима Мошкова (lib.ru)  rus000194  \n",
       "1  Библиотека Максима Мошкова (lib.ru)  rus000137  \n",
       "2  Библиотека Максима Мошкова (lib.ru)  rus000138  \n",
       "3                           Wikisource  rus000167  \n",
       "4                Wikilivres/Bibliowiki  rus000119  "
      ]
     },
     "execution_count": 102,
     "metadata": {},
     "output_type": "execute_result"
    }
   ],
   "source": [
    "df.head()"
   ]
  },
  {
   "cell_type": "code",
   "execution_count": 103,
   "metadata": {},
   "outputs": [],
   "source": [
    "df.to_csv(\"dracor-rus-list.csv\", index=False)"
   ]
  },
  {
   "cell_type": "code",
   "execution_count": null,
   "metadata": {},
   "outputs": [],
   "source": []
  }
 ],
 "metadata": {
  "kernelspec": {
   "display_name": "Python 3",
   "language": "python",
   "name": "python3"
  },
  "language_info": {
   "codemirror_mode": {
    "name": "ipython",
    "version": 3
   },
   "file_extension": ".py",
   "mimetype": "text/x-python",
   "name": "python",
   "nbconvert_exporter": "python",
   "pygments_lexer": "ipython3",
   "version": "3.7.3"
  }
 },
 "nbformat": 4,
 "nbformat_minor": 2
}
